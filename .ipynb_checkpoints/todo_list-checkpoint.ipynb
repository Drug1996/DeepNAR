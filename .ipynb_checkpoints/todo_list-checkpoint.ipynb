{
 "cells": [
  {
   "cell_type": "markdown",
   "metadata": {},
   "source": [
    "## Todo List\n",
    "* Evaluation Metric ***(Precision, Recall, Accuracy, F1 score)***\n",
    "* Standardize data samples ***(Sklearn)***\n",
    "* Variable learning rate ***(PyTorch)***\n",
    "* Graph font size ***(Matplotlib)***\n",
    "* Intra-iteration ***(IFI-RNN)***\n",
    "* Early stop ***(PyTorch)***\n",
    "* About convergence ***(Google)***\n",
    "* StratifiedKFold ***(Sklearn)***\n",
    "* Sliding windows\n",
    "* Continuous action data test"
   ]
  },
  {
   "cell_type": "code",
   "execution_count": 4,
   "metadata": {},
   "outputs": [],
   "source": [
    "import numpy as np"
   ]
  },
  {
   "cell_type": "code",
   "execution_count": 6,
   "metadata": {},
   "outputs": [],
   "source": [
    "def intra_iteration(x, i=2):\n",
    "    for i in range(len(x)):\n",
    "        x[i] = x[i][0,0]\n",
    "    \n",
    "    return x"
   ]
  },
  {
   "cell_type": "code",
   "execution_count": 5,
   "metadata": {},
   "outputs": [
    {
     "name": "stdout",
     "output_type": "stream",
     "text": [
      "[[[1 2 3]\n",
      "  [4 5 6]]\n",
      "\n",
      " [[1 2 3]\n",
      "  [4 5 6]]\n",
      "\n",
      " [[1 2 3]\n",
      "  [4 5 6]]]\n"
     ]
    }
   ],
   "source": [
    "a = [[1,2,3], [4,5,6]]\n",
    "t = [a, a, a]\n",
    "t = np.array(t)\n",
    "t = x"
   ]
  }
 ],
 "metadata": {
  "kernelspec": {
   "display_name": "Python 3",
   "language": "python",
   "name": "python3"
  },
  "language_info": {
   "codemirror_mode": {
    "name": "ipython",
    "version": 3
   },
   "file_extension": ".py",
   "mimetype": "text/x-python",
   "name": "python",
   "nbconvert_exporter": "python",
   "pygments_lexer": "ipython3",
   "version": "3.7.3"
  }
 },
 "nbformat": 4,
 "nbformat_minor": 2
}
