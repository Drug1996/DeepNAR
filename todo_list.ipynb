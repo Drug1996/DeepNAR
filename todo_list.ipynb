{
 "cells": [
  {
   "cell_type": "markdown",
   "metadata": {},
   "source": [
    "## Todo List\n",
    "* Evaluation Metric ***(Precision, Recall, Accuracy, F1 score)***\n",
    "* Standardize data samples ***(Sklearn)***\n",
    "* Variable learning rate ***(PyTorch)***\n",
    "* Graph font size ***(Matplotlib)***\n",
    "* ~~Intra-iteration ***(IFI-RNN)***~~\n",
    "* Early stop ***(PyTorch)***\n",
    "* About convergence ***(Google)***\n",
    "* StratifiedKFold ***(Sklearn)***\n",
    "* Sliding windows\n",
    "* Continuous action data test"
   ]
  },
  {
   "cell_type": "code",
   "execution_count": 27,
   "metadata": {},
   "outputs": [],
   "source": [
    "import numpy as np\n",
    "from sklearn.preprocessing import StandardScaler"
   ]
  },
  {
   "cell_type": "code",
   "execution_count": 15,
   "metadata": {},
   "outputs": [],
   "source": [
    "def intra_iteration(x, iter_num=2):\n",
    "    y = []\n",
    "    for i in range(len(x)):\n",
    "        y.append(x[i][[i//iter_num for i in range(iter_num*x[i].shape[0])],:])\n",
    "    \n",
    "    return np.array(y)"
   ]
  },
  {
   "cell_type": "code",
   "execution_count": 20,
   "metadata": {},
   "outputs": [
    {
     "name": "stdout",
     "output_type": "stream",
     "text": [
      "[[[1 2 3]\n",
      "  [4 5 6]]\n",
      "\n",
      " [[2 3 4]\n",
      "  [5 6 7]]\n",
      "\n",
      " [[1 2 3]\n",
      "  [4 5 6]]]\n",
      "[[[1 2 3]\n",
      "  [4 5 6]]\n",
      "\n",
      " [[2 3 4]\n",
      "  [5 6 7]]\n",
      "\n",
      " [[1 2 3]\n",
      "  [4 5 6]]]\n",
      "[[[1 2 3]\n",
      "  [1 2 3]\n",
      "  [4 5 6]\n",
      "  [4 5 6]]\n",
      "\n",
      " [[2 3 4]\n",
      "  [2 3 4]\n",
      "  [5 6 7]\n",
      "  [5 6 7]]\n",
      "\n",
      " [[1 2 3]\n",
      "  [1 2 3]\n",
      "  [4 5 6]\n",
      "  [4 5 6]]]\n"
     ]
    }
   ],
   "source": [
    "a = [[1,2,3], [4,5,6]]\n",
    "t = [a, a, a]\n",
    "t = np.array(t)\n",
    "t[1] += 1\n",
    "print(t)`\n",
    "t = np.array(t)\n",
    "print(t)\n",
    "t = intra_iteration(t)\n",
    "print(t)"
   ]
  },
  {
   "cell_type": "code",
   "execution_count": 29,
   "metadata": {},
   "outputs": [
    {
     "data": {
      "text/plain": [
       "3.0"
      ]
     },
     "execution_count": 29,
     "metadata": {},
     "output_type": "execute_result"
    }
   ],
   "source": [
    "np.mean([1,2,3,4,5])"
   ]
  }
 ],
 "metadata": {
  "kernelspec": {
   "display_name": "Python 3",
   "language": "python",
   "name": "python3"
  },
  "language_info": {
   "codemirror_mode": {
    "name": "ipython",
    "version": 3
   },
   "file_extension": ".py",
   "mimetype": "text/x-python",
   "name": "python",
   "nbconvert_exporter": "python",
   "pygments_lexer": "ipython3",
   "version": "3.7.3"
  }
 },
 "nbformat": 4,
 "nbformat_minor": 2
}
