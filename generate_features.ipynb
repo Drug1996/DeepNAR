{
 "cells": [
  {
   "cell_type": "code",
   "execution_count": 102,
   "metadata": {},
   "outputs": [],
   "source": [
    "import pandas as pd\n",
    "import numpy as np\n",
    "from tsfresh import extract_features\n",
    "from tsfresh import select_features\n",
    "from tsfresh.utilities.dataframe_functions import impute\n",
    "from sklearn.decomposition import PCA  \n",
    "import pickle\n",
    "from sklearn.utils import shuffle\n",
    "from sklearn.model_selection import train_test_split\n",
    "from sklearn.preprocessing import StandardScaler\n",
    "from sklearn.neural_network import MLPClassifier\n",
    "from sklearn.neighbors import KNeighborsClassifier\n",
    "from sklearn.svm import SVC\n",
    "from sklearn.gaussian_process import GaussianProcessClassifier\n",
    "from sklearn.gaussian_process.kernels import RBF\n",
    "from sklearn.tree import DecisionTreeClassifier\n",
    "from sklearn.ensemble import RandomForestClassifier, AdaBoostClassifier\n",
    "from sklearn.naive_bayes import GaussianNB\n",
    "from sklearn.discriminant_analysis import QuadraticDiscriminantAnalysis"
   ]
  },
  {
   "cell_type": "code",
   "execution_count": 93,
   "metadata": {},
   "outputs": [
    {
     "name": "stderr",
     "output_type": "stream",
     "text": [
      "Feature Extraction: 100%|██████████████████████| 20/20 [13:48<00:00, 28.44s/it]\n"
     ]
    }
   ],
   "source": [
    "dataset_name0 = 'lin'\n",
    "dataset_name1 = 'zhong'\n",
    "LABELS = ['right_standing', 'wrong_standing', 'right_turning', 'wrong_turning']\n",
    "DATASET_NAME = 'dataset.pkl'\n",
    "RANDOM_SEED_NUM = 0\n",
    "actions = LABELS\n",
    "pkl_file = open(DATASET_NAME, 'rb')\n",
    "dataset = pickle.load(pkl_file)\n",
    "pkl_file.close()\n",
    "dataset0 = dataset[dataset_name0]\n",
    "dataset1 = dataset[dataset_name1]\n",
    "\n",
    "# get longest length among different actions\n",
    "max_t = max(dataset0['length_range'][1], dataset1['length_range'][1])\n",
    "sequence_length = max_t  # the longest length of sample\n",
    "\n",
    "# divide the dataset into train set, dev set and test set\n",
    "x, y, x_train, y_train, x_test, y_test = [], [], [], [], [], []\n",
    "for label, action in enumerate(actions):\n",
    "\n",
    "    # lin\n",
    "    labels = [label] * len(dataset0[action])\n",
    "    x += dataset0[action]\n",
    "    y += labels\n",
    "\n",
    "    # zhong\n",
    "    labels = [label] * len(dataset1[action])\n",
    "    x += dataset1[action]\n",
    "    y += labels\n",
    "\n",
    "# data augmentation\n",
    "# x_train, y_train = crop(x_train, y_train)\n",
    "\n",
    "\n",
    "# pad the data samples\n",
    "for i in range(len(x)):\n",
    "    x[i] = \\\n",
    "        np.pad(x[i][:, 1:], ((0, max_t - x[i].shape[0]), (0, 0)), 'constant', constant_values=0)\n",
    "\n",
    "# shuffle\n",
    "x, y = shuffle(x, y, random_state=RANDOM_SEED_NUM+1)\n",
    "\n",
    "# change dataset's data format\n",
    "x, y = np.array(x), np.array(y)\n",
    "ts = np.array(None)\n",
    "for i in range(len(x)):\n",
    "    x_ = x[i]\n",
    "    x_ = np.insert(x_, 0, values=i, axis=1)\n",
    "    if ts.all() == None:\n",
    "        ts = x_\n",
    "    else:\n",
    "        ts = np.vstack((ts, x_))\n",
    "ts = pd.DataFrame(ts)\n",
    "ts_features = extract_features(ts, column_id=0)"
   ]
  },
  {
   "cell_type": "code",
   "execution_count": 97,
   "metadata": {},
   "outputs": [],
   "source": [
    "impute(ts_features)\n",
    "pca = PCA(n_components=150)\n",
    "ts_features = pca.fit_transform(ts_features)\n",
    "ts_features = StandardScaler().fit_transform(ts_features)"
   ]
  },
  {
   "cell_type": "code",
   "execution_count": 98,
   "metadata": {},
   "outputs": [
    {
     "data": {
      "text/plain": [
       "(160, 150)"
      ]
     },
     "execution_count": 98,
     "metadata": {},
     "output_type": "execute_result"
    }
   ],
   "source": [
    "ts_features.shape"
   ]
  },
  {
   "cell_type": "code",
   "execution_count": 162,
   "metadata": {},
   "outputs": [
    {
     "name": "stdout",
     "output_type": "stream",
     "text": [
      "Nearest Neighbors 0.34375\n",
      "Linear SVM 0.3125\n",
      "RBF SVM 0.1875\n",
      "Gaussian Process 0.265625\n",
      "Decision Tree 0.78125\n",
      "Random Forest 0.328125\n",
      "Neural Net 0.125\n",
      "AdaBoost 0.421875\n",
      "Naive Bayes 0.6875\n"
     ]
    },
    {
     "name": "stderr",
     "output_type": "stream",
     "text": [
      "C:\\ProgramData\\Anaconda3\\lib\\site-packages\\sklearn\\discriminant_analysis.py:693: UserWarning: Variables are collinear\n",
      "  warnings.warn(\"Variables are collinear\")\n"
     ]
    },
    {
     "name": "stdout",
     "output_type": "stream",
     "text": [
      "QDA 0.359375\n"
     ]
    }
   ],
   "source": [
    "train_x, test_x, train_y, test_y = \\\n",
    "    train_test_split(ts_features, y, test_size=0.4, random_state=RANDOM_SEED_NUM)\n",
    "\n",
    "names = [\"Nearest Neighbors\", \"Linear SVM\", \"RBF SVM\", \"Gaussian Process\",\n",
    "         \"Decision Tree\", \"Random Forest\", \"Neural Net\", \"AdaBoost\",\n",
    "         \"Naive Bayes\", \"QDA\"]\n",
    "\n",
    "classifiers = [\n",
    "    KNeighborsClassifier(3),\n",
    "    SVC(kernel=\"linear\", C=0.025),\n",
    "    SVC(gamma=2, C=1),\n",
    "    GaussianProcessClassifier(1.0 * RBF(1.0)),\n",
    "    DecisionTreeClassifier(max_depth=5),\n",
    "    RandomForestClassifier(max_depth=5, n_estimators=10, max_features=1),\n",
    "    MLPClassifier(alpha=1, max_iter=1000),\n",
    "    AdaBoostClassifier(),\n",
    "    GaussianNB(),\n",
    "    QuadraticDiscriminantAnalysis()]\n",
    "\n",
    "for name, clf in zip(names, classifiers):\n",
    "    clf.fit(train_x, train_y)\n",
    "    score = clf.score(test_x, test_y)\n",
    "    print(name, score)"
   ]
  },
  {
   "cell_type": "code",
   "execution_count": 163,
   "metadata": {},
   "outputs": [],
   "source": [
    "output = open('features_vector.pkl', 'wb')\n",
    "pickle.dump([ts_features, y], output)\n",
    "output.close()"
   ]
  }
 ],
 "metadata": {
  "kernelspec": {
   "display_name": "Python 3",
   "language": "python",
   "name": "python3"
  },
  "language_info": {
   "codemirror_mode": {
    "name": "ipython",
    "version": 3
   },
   "file_extension": ".py",
   "mimetype": "text/x-python",
   "name": "python",
   "nbconvert_exporter": "python",
   "pygments_lexer": "ipython3",
   "version": "3.7.3"
  }
 },
 "nbformat": 4,
 "nbformat_minor": 2
}
